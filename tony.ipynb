{
 "cells": [
  {
   "cell_type": "code",
   "execution_count": 47,
   "id": "6b2da0ff-4d29-49f6-9780-936ee0ccd894",
   "metadata": {},
   "outputs": [
    {
     "ename": "SyntaxError",
     "evalue": "cannot assign to False (1816078230.py, line 4)",
     "output_type": "error",
     "traceback": [
      "\u001b[1;36m  Cell \u001b[1;32mIn[47], line 4\u001b[1;36m\u001b[0m\n\u001b[1;33m    False = at high school\u001b[0m\n\u001b[1;37m    ^\u001b[0m\n\u001b[1;31mSyntaxError\u001b[0m\u001b[1;31m:\u001b[0m cannot assign to False\n"
     ]
    }
   ],
   "source": [
    "#exercise 1\n",
    "name = \"tony\"\n",
    "age = 17"
   ]
  },
  {
   "cell_type": "code",
   "execution_count": 13,
   "id": "9967c0e6-179b-4947-b44f-f89a83e21212",
   "metadata": {},
   "outputs": [
    {
     "name": "stdout",
     "output_type": "stream",
     "text": [
      "<class 'str'>\n",
      "<class 'int'>\n"
     ]
    }
   ],
   "source": [
    "print(type(name))\n",
    "print(type(age))"
   ]
  },
  {
   "cell_type": "code",
   "execution_count": 29,
   "id": "2a8b7a22-c0fa-4c91-8b71-47dcc089d4e0",
   "metadata": {},
   "outputs": [],
   "source": [
    "#exercisee 2\n",
    "x=12\n",
    "y=2\n",
    "a = x+y\n",
    "b = x-y\n",
    "c = x*y \n",
    "d = x/y"
   ]
  },
  {
   "cell_type": "code",
   "execution_count": 30,
   "id": "90c835c6-87ef-4ce0-b52b-affb922fb5cc",
   "metadata": {},
   "outputs": [
    {
     "name": "stdout",
     "output_type": "stream",
     "text": [
      "14\n",
      "10\n",
      "24\n",
      "6.0\n"
     ]
    }
   ],
   "source": [
    "print(a)\n",
    "print(b)\n",
    "print(c)\n",
    "print(d)"
   ]
  },
  {
   "cell_type": "code",
   "execution_count": 31,
   "id": "8454260b-dbe6-47ef-8c2c-74e1e14f7da1",
   "metadata": {},
   "outputs": [
    {
     "name": "stdout",
     "output_type": "stream",
     "text": [
      "True\n"
     ]
    }
   ],
   "source": [
    "print(x>10 and x<20)"
   ]
  },
  {
   "cell_type": "code",
   "execution_count": 135,
   "id": "9cc9445f-8549-459f-8920-0314e5ef5e88",
   "metadata": {},
   "outputs": [],
   "source": [
    "#exercise 3\n",
    "word = \"tony nader lotfy\"\n"
   ]
  },
  {
   "cell_type": "code",
   "execution_count": 115,
   "id": "848de0a1-0458-43fa-b0c5-1a74799c7953",
   "metadata": {},
   "outputs": [],
   "source": [
    "#exerise 4\n",
    "tony = \"pen notebook eraser ruler marker\""
   ]
  },
  {
   "cell_type": "code",
   "execution_count": 118,
   "id": "394b1de2-e942-4ad2-9f15-95c34276c7b4",
   "metadata": {},
   "outputs": [
    {
     "data": {
      "text/plain": [
       "['pen notebook eraser ruler marker']"
      ]
     },
     "execution_count": 118,
     "metadata": {},
     "output_type": "execute_result"
    }
   ],
   "source": [
    "print(\"split\")"
   ]
  },
  {
   "cell_type": "code",
   "execution_count": null,
   "id": "2d1c9a25-b50b-48b6-9f5a-d82b42171c6b",
   "metadata": {},
   "outputs": [],
   "source": []
  }
 ],
 "metadata": {
  "kernelspec": {
   "display_name": "Python 3 (ipykernel)",
   "language": "python",
   "name": "python3"
  },
  "language_info": {
   "codemirror_mode": {
    "name": "ipython",
    "version": 3
   },
   "file_extension": ".py",
   "mimetype": "text/x-python",
   "name": "python",
   "nbconvert_exporter": "python",
   "pygments_lexer": "ipython3",
   "version": "3.13.0"
  }
 },
 "nbformat": 4,
 "nbformat_minor": 5
}
